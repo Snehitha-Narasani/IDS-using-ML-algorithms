{
  "nbformat": 4,
  "nbformat_minor": 0,
  "metadata": {
    "colab": {
      "provenance": []
    },
    "kernelspec": {
      "name": "python3",
      "display_name": "Python 3"
    },
    "language_info": {
      "name": "python"
    }
  },
  "cells": [
    {
      "cell_type": "code",
      "execution_count": 1,
      "metadata": {
        "id": "RUqLQ_KDKvon"
      },
      "outputs": [],
      "source": [
        "import numpy as np\n",
        "import matplotlib.pyplot as plt\n",
        "import pandas as pd"
      ]
    },
    {
      "cell_type": "code",
      "source": [
        "!wget https://www.takakura.com/Kyoto_data/new_data201704/2015/201512.zip"
      ],
      "metadata": {
        "colab": {
          "base_uri": "https://localhost:8080/"
        },
        "id": "iZ4Gy-s_LZ9n",
        "outputId": "e78f515a-96be-4678-995f-261ecd28b04f"
      },
      "execution_count": 2,
      "outputs": [
        {
          "output_type": "stream",
          "name": "stdout",
          "text": [
            "--2024-03-28 07:12:38--  https://www.takakura.com/Kyoto_data/new_data201704/2015/201512.zip\n",
            "Resolving www.takakura.com (www.takakura.com)... 150.100.120.5, 2001:2f8:3a:2100::5\n",
            "Connecting to www.takakura.com (www.takakura.com)|150.100.120.5|:443... connected.\n",
            "HTTP request sent, awaiting response... 200 OK\n",
            "Length: 181366761 (173M) [application/zip]\n",
            "Saving to: ‘201512.zip’\n",
            "\n",
            "201512.zip          100%[===================>] 172.96M  21.6MB/s    in 9.0s    \n",
            "\n",
            "2024-03-28 07:12:48 (19.3 MB/s) - ‘201512.zip’ saved [181366761/181366761]\n",
            "\n"
          ]
        }
      ]
    },
    {
      "cell_type": "code",
      "source": [
        "!unzip /content/201512.zip"
      ],
      "metadata": {
        "colab": {
          "base_uri": "https://localhost:8080/"
        },
        "id": "wjoVxTGoL2-U",
        "outputId": "669f749d-b1da-448b-ad02-64fb616b32b7"
      },
      "execution_count": 3,
      "outputs": [
        {
          "output_type": "stream",
          "name": "stdout",
          "text": [
            "Archive:  /content/201512.zip\n",
            "   creating: Kyoto2016/2015/12/\n",
            "  inflating: Kyoto2016/2015/12/20151211.txt  \n",
            "  inflating: Kyoto2016/2015/12/20151209.txt  \n",
            "  inflating: Kyoto2016/2015/12/20151223.txt  \n",
            "  inflating: Kyoto2016/2015/12/20151215.txt  \n",
            "  inflating: Kyoto2016/2015/12/20151201.txt  \n",
            "  inflating: Kyoto2016/2015/12/20151217.txt  \n",
            "  inflating: Kyoto2016/2015/12/20151207.txt  \n",
            "  inflating: Kyoto2016/2015/12/20151219.txt  \n",
            "  inflating: Kyoto2016/2015/12/20151229.txt  \n",
            "  inflating: Kyoto2016/2015/12/20151208.txt  \n",
            "  inflating: Kyoto2016/2015/12/20151205.txt  \n",
            "  inflating: Kyoto2016/2015/12/20151222.txt  \n",
            "  inflating: Kyoto2016/2015/12/20151227.txt  \n",
            "  inflating: Kyoto2016/2015/12/20151216.txt  \n",
            "  inflating: Kyoto2016/2015/12/20151225.txt  \n",
            "  inflating: Kyoto2016/2015/12/20151203.txt  \n",
            "  inflating: Kyoto2016/2015/12/20151224.txt  \n",
            "  inflating: Kyoto2016/2015/12/20151214.txt  \n",
            "  inflating: Kyoto2016/2015/12/20151228.txt  \n",
            "  inflating: Kyoto2016/2015/12/20151213.txt  \n",
            "  inflating: Kyoto2016/2015/12/20151202.txt  \n",
            "  inflating: Kyoto2016/2015/12/20151226.txt  \n",
            "  inflating: Kyoto2016/2015/12/20151218.txt  \n",
            "  inflating: Kyoto2016/2015/12/20151204.txt  \n",
            "  inflating: Kyoto2016/2015/12/20151231.txt  \n",
            "  inflating: Kyoto2016/2015/12/20151206.txt  \n",
            "  inflating: Kyoto2016/2015/12/20151230.txt  \n",
            "  inflating: Kyoto2016/2015/12/20151220.txt  \n",
            "  inflating: Kyoto2016/2015/12/20151212.txt  \n",
            "  inflating: Kyoto2016/2015/12/20151221.txt  \n",
            "  inflating: Kyoto2016/2015/12/20151210.txt  \n"
          ]
        }
      ]
    },
    {
      "cell_type": "code",
      "source": [
        "df = pd.read_csv(\"/content/Kyoto2016/2015/12/20151209.txt\",\n",
        "                 names= [\n",
        "                     \"duration\",\n",
        "                     \"service\",\n",
        "                     \"source_bytes\",\n",
        "                     \"destination\",\n",
        "                     \"count\",\n",
        "                     \"same_srv_rate\",\n",
        "                     \"serror_rate\",\n",
        "                     \"srv_serror_rate\",\n",
        "                     \"dst_host_count\",\n",
        "                     \"dst_host_srv_count\",\n",
        "                     \"dst_host_same_src_port_rate\",\n",
        "                     \"dst_host_serror_rate\",\n",
        "                     \"dst_host_srv_error_rate\",\n",
        "                     \"flag\",\n",
        "                     \"ids_label\",\n",
        "                     \"malware_detection_label\",\n",
        "                     \"ashula_detection\",\n",
        "                     \"label\",\n",
        "                     \"source_ip_address\",\n",
        "                     \"source_port\",\n",
        "                     \"destination_ip_address\",\n",
        "                     \"destination_port_number\",\n",
        "                     \"start_time\",\n",
        "                     \"protocol\"\n",
        "                 ],\n",
        "                 delimiter=\"\\t\")\n",
        "df.head()\n",
        "\n",
        "# df = df[:100000]"
      ],
      "metadata": {
        "colab": {
          "base_uri": "https://localhost:8080/",
          "height": 256
        },
        "id": "rsq5yz0sMU8I",
        "outputId": "c1192da4-b78f-444e-867b-5bd5f1115620"
      },
      "execution_count": 4,
      "outputs": [
        {
          "output_type": "execute_result",
          "data": {
            "text/plain": [
              "   duration service  source_bytes  destination  count  same_srv_rate  \\\n",
              "0  0.000000   other             0            0      0            0.0   \n",
              "1  2.999947   other             0            0      1            1.0   \n",
              "2  0.000000   other             0            0      0            0.0   \n",
              "3  0.000060   other             0            0      0            0.0   \n",
              "4  0.000074   other             0            0      1            1.0   \n",
              "\n",
              "   serror_rate  srv_serror_rate  dst_host_count  dst_host_srv_count  ...  \\\n",
              "0          0.0             0.80               1                   5  ...   \n",
              "1          1.0             0.83               1                   1  ...   \n",
              "2          0.0             1.00               1                   2  ...   \n",
              "3          0.0             1.00               1                   3  ...   \n",
              "4          0.0             0.75               2                   4  ...   \n",
              "\n",
              "   ids_label  malware_detection_label  ashula_detection label  \\\n",
              "0          0                        0                 0    -1   \n",
              "1          0                        0                 0    -1   \n",
              "2          0                        0                 0    -1   \n",
              "3          0                        0                 0    -1   \n",
              "4          0                        0                 0    -1   \n",
              "\n",
              "                         source_ip_address source_port  \\\n",
              "0  fdbd:f115:35b2:59be:2582:1994:0326:1ee0       64975   \n",
              "1  fdbd:f115:35b2:c672:061c:037a:0303:0182       35636   \n",
              "2  fdbd:f115:35b2:7485:21c5:1942:4ff5:3705       10984   \n",
              "3  fdbd:f115:35b2:072d:4ca5:1512:2bd2:030c       65104   \n",
              "4  fdbd:f115:35b2:072d:4ca5:1512:2bd2:030c       65104   \n",
              "\n",
              "                    destination_ip_address  destination_port_number  \\\n",
              "0  fdbd:f115:35b2:a440:7d94:278d:61f4:31d3                       25   \n",
              "1  fdbd:f115:35b2:1f77:7af1:00c2:5f0d:3492                       23   \n",
              "2  fdbd:f115:35b2:fd20:7ddf:279b:609d:41cd                      445   \n",
              "3  fdbd:f115:35b2:c152:7d74:2701:61f4:35ec                       25   \n",
              "4  fdbd:f115:35b2:c152:7d74:2701:61f4:35ec                       25   \n",
              "\n",
              "  start_time  protocol  \n",
              "0   00:00:00       tcp  \n",
              "1   00:00:00       tcp  \n",
              "2   00:00:01       tcp  \n",
              "3   00:00:01       tcp  \n",
              "4   00:00:01       tcp  \n",
              "\n",
              "[5 rows x 24 columns]"
            ],
            "text/html": [
              "\n",
              "  <div id=\"df-12628c79-e50e-42d1-aed4-8f959dd5e0e9\" class=\"colab-df-container\">\n",
              "    <div>\n",
              "<style scoped>\n",
              "    .dataframe tbody tr th:only-of-type {\n",
              "        vertical-align: middle;\n",
              "    }\n",
              "\n",
              "    .dataframe tbody tr th {\n",
              "        vertical-align: top;\n",
              "    }\n",
              "\n",
              "    .dataframe thead th {\n",
              "        text-align: right;\n",
              "    }\n",
              "</style>\n",
              "<table border=\"1\" class=\"dataframe\">\n",
              "  <thead>\n",
              "    <tr style=\"text-align: right;\">\n",
              "      <th></th>\n",
              "      <th>duration</th>\n",
              "      <th>service</th>\n",
              "      <th>source_bytes</th>\n",
              "      <th>destination</th>\n",
              "      <th>count</th>\n",
              "      <th>same_srv_rate</th>\n",
              "      <th>serror_rate</th>\n",
              "      <th>srv_serror_rate</th>\n",
              "      <th>dst_host_count</th>\n",
              "      <th>dst_host_srv_count</th>\n",
              "      <th>...</th>\n",
              "      <th>ids_label</th>\n",
              "      <th>malware_detection_label</th>\n",
              "      <th>ashula_detection</th>\n",
              "      <th>label</th>\n",
              "      <th>source_ip_address</th>\n",
              "      <th>source_port</th>\n",
              "      <th>destination_ip_address</th>\n",
              "      <th>destination_port_number</th>\n",
              "      <th>start_time</th>\n",
              "      <th>protocol</th>\n",
              "    </tr>\n",
              "  </thead>\n",
              "  <tbody>\n",
              "    <tr>\n",
              "      <th>0</th>\n",
              "      <td>0.000000</td>\n",
              "      <td>other</td>\n",
              "      <td>0</td>\n",
              "      <td>0</td>\n",
              "      <td>0</td>\n",
              "      <td>0.0</td>\n",
              "      <td>0.0</td>\n",
              "      <td>0.80</td>\n",
              "      <td>1</td>\n",
              "      <td>5</td>\n",
              "      <td>...</td>\n",
              "      <td>0</td>\n",
              "      <td>0</td>\n",
              "      <td>0</td>\n",
              "      <td>-1</td>\n",
              "      <td>fdbd:f115:35b2:59be:2582:1994:0326:1ee0</td>\n",
              "      <td>64975</td>\n",
              "      <td>fdbd:f115:35b2:a440:7d94:278d:61f4:31d3</td>\n",
              "      <td>25</td>\n",
              "      <td>00:00:00</td>\n",
              "      <td>tcp</td>\n",
              "    </tr>\n",
              "    <tr>\n",
              "      <th>1</th>\n",
              "      <td>2.999947</td>\n",
              "      <td>other</td>\n",
              "      <td>0</td>\n",
              "      <td>0</td>\n",
              "      <td>1</td>\n",
              "      <td>1.0</td>\n",
              "      <td>1.0</td>\n",
              "      <td>0.83</td>\n",
              "      <td>1</td>\n",
              "      <td>1</td>\n",
              "      <td>...</td>\n",
              "      <td>0</td>\n",
              "      <td>0</td>\n",
              "      <td>0</td>\n",
              "      <td>-1</td>\n",
              "      <td>fdbd:f115:35b2:c672:061c:037a:0303:0182</td>\n",
              "      <td>35636</td>\n",
              "      <td>fdbd:f115:35b2:1f77:7af1:00c2:5f0d:3492</td>\n",
              "      <td>23</td>\n",
              "      <td>00:00:00</td>\n",
              "      <td>tcp</td>\n",
              "    </tr>\n",
              "    <tr>\n",
              "      <th>2</th>\n",
              "      <td>0.000000</td>\n",
              "      <td>other</td>\n",
              "      <td>0</td>\n",
              "      <td>0</td>\n",
              "      <td>0</td>\n",
              "      <td>0.0</td>\n",
              "      <td>0.0</td>\n",
              "      <td>1.00</td>\n",
              "      <td>1</td>\n",
              "      <td>2</td>\n",
              "      <td>...</td>\n",
              "      <td>0</td>\n",
              "      <td>0</td>\n",
              "      <td>0</td>\n",
              "      <td>-1</td>\n",
              "      <td>fdbd:f115:35b2:7485:21c5:1942:4ff5:3705</td>\n",
              "      <td>10984</td>\n",
              "      <td>fdbd:f115:35b2:fd20:7ddf:279b:609d:41cd</td>\n",
              "      <td>445</td>\n",
              "      <td>00:00:01</td>\n",
              "      <td>tcp</td>\n",
              "    </tr>\n",
              "    <tr>\n",
              "      <th>3</th>\n",
              "      <td>0.000060</td>\n",
              "      <td>other</td>\n",
              "      <td>0</td>\n",
              "      <td>0</td>\n",
              "      <td>0</td>\n",
              "      <td>0.0</td>\n",
              "      <td>0.0</td>\n",
              "      <td>1.00</td>\n",
              "      <td>1</td>\n",
              "      <td>3</td>\n",
              "      <td>...</td>\n",
              "      <td>0</td>\n",
              "      <td>0</td>\n",
              "      <td>0</td>\n",
              "      <td>-1</td>\n",
              "      <td>fdbd:f115:35b2:072d:4ca5:1512:2bd2:030c</td>\n",
              "      <td>65104</td>\n",
              "      <td>fdbd:f115:35b2:c152:7d74:2701:61f4:35ec</td>\n",
              "      <td>25</td>\n",
              "      <td>00:00:01</td>\n",
              "      <td>tcp</td>\n",
              "    </tr>\n",
              "    <tr>\n",
              "      <th>4</th>\n",
              "      <td>0.000074</td>\n",
              "      <td>other</td>\n",
              "      <td>0</td>\n",
              "      <td>0</td>\n",
              "      <td>1</td>\n",
              "      <td>1.0</td>\n",
              "      <td>0.0</td>\n",
              "      <td>0.75</td>\n",
              "      <td>2</td>\n",
              "      <td>4</td>\n",
              "      <td>...</td>\n",
              "      <td>0</td>\n",
              "      <td>0</td>\n",
              "      <td>0</td>\n",
              "      <td>-1</td>\n",
              "      <td>fdbd:f115:35b2:072d:4ca5:1512:2bd2:030c</td>\n",
              "      <td>65104</td>\n",
              "      <td>fdbd:f115:35b2:c152:7d74:2701:61f4:35ec</td>\n",
              "      <td>25</td>\n",
              "      <td>00:00:01</td>\n",
              "      <td>tcp</td>\n",
              "    </tr>\n",
              "  </tbody>\n",
              "</table>\n",
              "<p>5 rows × 24 columns</p>\n",
              "</div>\n",
              "    <div class=\"colab-df-buttons\">\n",
              "\n",
              "  <div class=\"colab-df-container\">\n",
              "    <button class=\"colab-df-convert\" onclick=\"convertToInteractive('df-12628c79-e50e-42d1-aed4-8f959dd5e0e9')\"\n",
              "            title=\"Convert this dataframe to an interactive table.\"\n",
              "            style=\"display:none;\">\n",
              "\n",
              "  <svg xmlns=\"http://www.w3.org/2000/svg\" height=\"24px\" viewBox=\"0 -960 960 960\">\n",
              "    <path d=\"M120-120v-720h720v720H120Zm60-500h600v-160H180v160Zm220 220h160v-160H400v160Zm0 220h160v-160H400v160ZM180-400h160v-160H180v160Zm440 0h160v-160H620v160ZM180-180h160v-160H180v160Zm440 0h160v-160H620v160Z\"/>\n",
              "  </svg>\n",
              "    </button>\n",
              "\n",
              "  <style>\n",
              "    .colab-df-container {\n",
              "      display:flex;\n",
              "      gap: 12px;\n",
              "    }\n",
              "\n",
              "    .colab-df-convert {\n",
              "      background-color: #E8F0FE;\n",
              "      border: none;\n",
              "      border-radius: 50%;\n",
              "      cursor: pointer;\n",
              "      display: none;\n",
              "      fill: #1967D2;\n",
              "      height: 32px;\n",
              "      padding: 0 0 0 0;\n",
              "      width: 32px;\n",
              "    }\n",
              "\n",
              "    .colab-df-convert:hover {\n",
              "      background-color: #E2EBFA;\n",
              "      box-shadow: 0px 1px 2px rgba(60, 64, 67, 0.3), 0px 1px 3px 1px rgba(60, 64, 67, 0.15);\n",
              "      fill: #174EA6;\n",
              "    }\n",
              "\n",
              "    .colab-df-buttons div {\n",
              "      margin-bottom: 4px;\n",
              "    }\n",
              "\n",
              "    [theme=dark] .colab-df-convert {\n",
              "      background-color: #3B4455;\n",
              "      fill: #D2E3FC;\n",
              "    }\n",
              "\n",
              "    [theme=dark] .colab-df-convert:hover {\n",
              "      background-color: #434B5C;\n",
              "      box-shadow: 0px 1px 3px 1px rgba(0, 0, 0, 0.15);\n",
              "      filter: drop-shadow(0px 1px 2px rgba(0, 0, 0, 0.3));\n",
              "      fill: #FFFFFF;\n",
              "    }\n",
              "  </style>\n",
              "\n",
              "    <script>\n",
              "      const buttonEl =\n",
              "        document.querySelector('#df-12628c79-e50e-42d1-aed4-8f959dd5e0e9 button.colab-df-convert');\n",
              "      buttonEl.style.display =\n",
              "        google.colab.kernel.accessAllowed ? 'block' : 'none';\n",
              "\n",
              "      async function convertToInteractive(key) {\n",
              "        const element = document.querySelector('#df-12628c79-e50e-42d1-aed4-8f959dd5e0e9');\n",
              "        const dataTable =\n",
              "          await google.colab.kernel.invokeFunction('convertToInteractive',\n",
              "                                                    [key], {});\n",
              "        if (!dataTable) return;\n",
              "\n",
              "        const docLinkHtml = 'Like what you see? Visit the ' +\n",
              "          '<a target=\"_blank\" href=https://colab.research.google.com/notebooks/data_table.ipynb>data table notebook</a>'\n",
              "          + ' to learn more about interactive tables.';\n",
              "        element.innerHTML = '';\n",
              "        dataTable['output_type'] = 'display_data';\n",
              "        await google.colab.output.renderOutput(dataTable, element);\n",
              "        const docLink = document.createElement('div');\n",
              "        docLink.innerHTML = docLinkHtml;\n",
              "        element.appendChild(docLink);\n",
              "      }\n",
              "    </script>\n",
              "  </div>\n",
              "\n",
              "\n",
              "<div id=\"df-8560ebdb-7883-4bdf-bc32-12dd6c2ed518\">\n",
              "  <button class=\"colab-df-quickchart\" onclick=\"quickchart('df-8560ebdb-7883-4bdf-bc32-12dd6c2ed518')\"\n",
              "            title=\"Suggest charts\"\n",
              "            style=\"display:none;\">\n",
              "\n",
              "<svg xmlns=\"http://www.w3.org/2000/svg\" height=\"24px\"viewBox=\"0 0 24 24\"\n",
              "     width=\"24px\">\n",
              "    <g>\n",
              "        <path d=\"M19 3H5c-1.1 0-2 .9-2 2v14c0 1.1.9 2 2 2h14c1.1 0 2-.9 2-2V5c0-1.1-.9-2-2-2zM9 17H7v-7h2v7zm4 0h-2V7h2v10zm4 0h-2v-4h2v4z\"/>\n",
              "    </g>\n",
              "</svg>\n",
              "  </button>\n",
              "\n",
              "<style>\n",
              "  .colab-df-quickchart {\n",
              "      --bg-color: #E8F0FE;\n",
              "      --fill-color: #1967D2;\n",
              "      --hover-bg-color: #E2EBFA;\n",
              "      --hover-fill-color: #174EA6;\n",
              "      --disabled-fill-color: #AAA;\n",
              "      --disabled-bg-color: #DDD;\n",
              "  }\n",
              "\n",
              "  [theme=dark] .colab-df-quickchart {\n",
              "      --bg-color: #3B4455;\n",
              "      --fill-color: #D2E3FC;\n",
              "      --hover-bg-color: #434B5C;\n",
              "      --hover-fill-color: #FFFFFF;\n",
              "      --disabled-bg-color: #3B4455;\n",
              "      --disabled-fill-color: #666;\n",
              "  }\n",
              "\n",
              "  .colab-df-quickchart {\n",
              "    background-color: var(--bg-color);\n",
              "    border: none;\n",
              "    border-radius: 50%;\n",
              "    cursor: pointer;\n",
              "    display: none;\n",
              "    fill: var(--fill-color);\n",
              "    height: 32px;\n",
              "    padding: 0;\n",
              "    width: 32px;\n",
              "  }\n",
              "\n",
              "  .colab-df-quickchart:hover {\n",
              "    background-color: var(--hover-bg-color);\n",
              "    box-shadow: 0 1px 2px rgba(60, 64, 67, 0.3), 0 1px 3px 1px rgba(60, 64, 67, 0.15);\n",
              "    fill: var(--button-hover-fill-color);\n",
              "  }\n",
              "\n",
              "  .colab-df-quickchart-complete:disabled,\n",
              "  .colab-df-quickchart-complete:disabled:hover {\n",
              "    background-color: var(--disabled-bg-color);\n",
              "    fill: var(--disabled-fill-color);\n",
              "    box-shadow: none;\n",
              "  }\n",
              "\n",
              "  .colab-df-spinner {\n",
              "    border: 2px solid var(--fill-color);\n",
              "    border-color: transparent;\n",
              "    border-bottom-color: var(--fill-color);\n",
              "    animation:\n",
              "      spin 1s steps(1) infinite;\n",
              "  }\n",
              "\n",
              "  @keyframes spin {\n",
              "    0% {\n",
              "      border-color: transparent;\n",
              "      border-bottom-color: var(--fill-color);\n",
              "      border-left-color: var(--fill-color);\n",
              "    }\n",
              "    20% {\n",
              "      border-color: transparent;\n",
              "      border-left-color: var(--fill-color);\n",
              "      border-top-color: var(--fill-color);\n",
              "    }\n",
              "    30% {\n",
              "      border-color: transparent;\n",
              "      border-left-color: var(--fill-color);\n",
              "      border-top-color: var(--fill-color);\n",
              "      border-right-color: var(--fill-color);\n",
              "    }\n",
              "    40% {\n",
              "      border-color: transparent;\n",
              "      border-right-color: var(--fill-color);\n",
              "      border-top-color: var(--fill-color);\n",
              "    }\n",
              "    60% {\n",
              "      border-color: transparent;\n",
              "      border-right-color: var(--fill-color);\n",
              "    }\n",
              "    80% {\n",
              "      border-color: transparent;\n",
              "      border-right-color: var(--fill-color);\n",
              "      border-bottom-color: var(--fill-color);\n",
              "    }\n",
              "    90% {\n",
              "      border-color: transparent;\n",
              "      border-bottom-color: var(--fill-color);\n",
              "    }\n",
              "  }\n",
              "</style>\n",
              "\n",
              "  <script>\n",
              "    async function quickchart(key) {\n",
              "      const quickchartButtonEl =\n",
              "        document.querySelector('#' + key + ' button');\n",
              "      quickchartButtonEl.disabled = true;  // To prevent multiple clicks.\n",
              "      quickchartButtonEl.classList.add('colab-df-spinner');\n",
              "      try {\n",
              "        const charts = await google.colab.kernel.invokeFunction(\n",
              "            'suggestCharts', [key], {});\n",
              "      } catch (error) {\n",
              "        console.error('Error during call to suggestCharts:', error);\n",
              "      }\n",
              "      quickchartButtonEl.classList.remove('colab-df-spinner');\n",
              "      quickchartButtonEl.classList.add('colab-df-quickchart-complete');\n",
              "    }\n",
              "    (() => {\n",
              "      let quickchartButtonEl =\n",
              "        document.querySelector('#df-8560ebdb-7883-4bdf-bc32-12dd6c2ed518 button');\n",
              "      quickchartButtonEl.style.display =\n",
              "        google.colab.kernel.accessAllowed ? 'block' : 'none';\n",
              "    })();\n",
              "  </script>\n",
              "</div>\n",
              "\n",
              "    </div>\n",
              "  </div>\n"
            ],
            "application/vnd.google.colaboratory.intrinsic+json": {
              "type": "dataframe"
            }
          },
          "metadata": {},
          "execution_count": 4
        }
      ]
    },
    {
      "cell_type": "code",
      "source": [
        "from sklearn.preprocessing import LabelEncoder\n",
        "\n",
        "label_encoder = LabelEncoder()\n",
        "\n",
        "# Iterate through each categorical column and encode it\n",
        "for col in df.select_dtypes(include=['object']).columns:\n",
        "    df[col] = label_encoder.fit_transform(df[col])"
      ],
      "metadata": {
        "id": "iSVnSlQMXXLB"
      },
      "execution_count": 5,
      "outputs": []
    },
    {
      "cell_type": "code",
      "source": [
        "df.head()"
      ],
      "metadata": {
        "colab": {
          "base_uri": "https://localhost:8080/",
          "height": 256
        },
        "id": "X-KyYV9yq1YY",
        "outputId": "34820836-3869-460a-c638-1a8d1cf2c941"
      },
      "execution_count": 6,
      "outputs": [
        {
          "output_type": "execute_result",
          "data": {
            "text/plain": [
              "   duration  service  source_bytes  destination  count  same_srv_rate  \\\n",
              "0  0.000000        3             0            0      0            0.0   \n",
              "1  2.999947        3             0            0      1            1.0   \n",
              "2  0.000000        3             0            0      0            0.0   \n",
              "3  0.000060        3             0            0      0            0.0   \n",
              "4  0.000074        3             0            0      1            1.0   \n",
              "\n",
              "   serror_rate  srv_serror_rate  dst_host_count  dst_host_srv_count  ...  \\\n",
              "0          0.0             0.80               1                   5  ...   \n",
              "1          1.0             0.83               1                   1  ...   \n",
              "2          0.0             1.00               1                   2  ...   \n",
              "3          0.0             1.00               1                   3  ...   \n",
              "4          0.0             0.75               2                   4  ...   \n",
              "\n",
              "   ids_label  malware_detection_label  ashula_detection  label  \\\n",
              "0          0                        0                 0     -1   \n",
              "1          0                        0                 0     -1   \n",
              "2          0                        0                 0     -1   \n",
              "3          0                        0                 0     -1   \n",
              "4          0                        0                 0     -1   \n",
              "\n",
              "   source_ip_address  source_port  destination_ip_address  \\\n",
              "0              12261        64975                     822   \n",
              "1              27193        35636                     166   \n",
              "2              15860        10984                    1274   \n",
              "3                990        65104                     957   \n",
              "4                990        65104                     957   \n",
              "\n",
              "   destination_port_number  start_time  protocol  \n",
              "0                       25           0         1  \n",
              "1                       23           0         1  \n",
              "2                      445           1         1  \n",
              "3                       25           1         1  \n",
              "4                       25           1         1  \n",
              "\n",
              "[5 rows x 24 columns]"
            ],
            "text/html": [
              "\n",
              "  <div id=\"df-686b3ea0-401f-43fe-9c7b-e0802fb71070\" class=\"colab-df-container\">\n",
              "    <div>\n",
              "<style scoped>\n",
              "    .dataframe tbody tr th:only-of-type {\n",
              "        vertical-align: middle;\n",
              "    }\n",
              "\n",
              "    .dataframe tbody tr th {\n",
              "        vertical-align: top;\n",
              "    }\n",
              "\n",
              "    .dataframe thead th {\n",
              "        text-align: right;\n",
              "    }\n",
              "</style>\n",
              "<table border=\"1\" class=\"dataframe\">\n",
              "  <thead>\n",
              "    <tr style=\"text-align: right;\">\n",
              "      <th></th>\n",
              "      <th>duration</th>\n",
              "      <th>service</th>\n",
              "      <th>source_bytes</th>\n",
              "      <th>destination</th>\n",
              "      <th>count</th>\n",
              "      <th>same_srv_rate</th>\n",
              "      <th>serror_rate</th>\n",
              "      <th>srv_serror_rate</th>\n",
              "      <th>dst_host_count</th>\n",
              "      <th>dst_host_srv_count</th>\n",
              "      <th>...</th>\n",
              "      <th>ids_label</th>\n",
              "      <th>malware_detection_label</th>\n",
              "      <th>ashula_detection</th>\n",
              "      <th>label</th>\n",
              "      <th>source_ip_address</th>\n",
              "      <th>source_port</th>\n",
              "      <th>destination_ip_address</th>\n",
              "      <th>destination_port_number</th>\n",
              "      <th>start_time</th>\n",
              "      <th>protocol</th>\n",
              "    </tr>\n",
              "  </thead>\n",
              "  <tbody>\n",
              "    <tr>\n",
              "      <th>0</th>\n",
              "      <td>0.000000</td>\n",
              "      <td>3</td>\n",
              "      <td>0</td>\n",
              "      <td>0</td>\n",
              "      <td>0</td>\n",
              "      <td>0.0</td>\n",
              "      <td>0.0</td>\n",
              "      <td>0.80</td>\n",
              "      <td>1</td>\n",
              "      <td>5</td>\n",
              "      <td>...</td>\n",
              "      <td>0</td>\n",
              "      <td>0</td>\n",
              "      <td>0</td>\n",
              "      <td>-1</td>\n",
              "      <td>12261</td>\n",
              "      <td>64975</td>\n",
              "      <td>822</td>\n",
              "      <td>25</td>\n",
              "      <td>0</td>\n",
              "      <td>1</td>\n",
              "    </tr>\n",
              "    <tr>\n",
              "      <th>1</th>\n",
              "      <td>2.999947</td>\n",
              "      <td>3</td>\n",
              "      <td>0</td>\n",
              "      <td>0</td>\n",
              "      <td>1</td>\n",
              "      <td>1.0</td>\n",
              "      <td>1.0</td>\n",
              "      <td>0.83</td>\n",
              "      <td>1</td>\n",
              "      <td>1</td>\n",
              "      <td>...</td>\n",
              "      <td>0</td>\n",
              "      <td>0</td>\n",
              "      <td>0</td>\n",
              "      <td>-1</td>\n",
              "      <td>27193</td>\n",
              "      <td>35636</td>\n",
              "      <td>166</td>\n",
              "      <td>23</td>\n",
              "      <td>0</td>\n",
              "      <td>1</td>\n",
              "    </tr>\n",
              "    <tr>\n",
              "      <th>2</th>\n",
              "      <td>0.000000</td>\n",
              "      <td>3</td>\n",
              "      <td>0</td>\n",
              "      <td>0</td>\n",
              "      <td>0</td>\n",
              "      <td>0.0</td>\n",
              "      <td>0.0</td>\n",
              "      <td>1.00</td>\n",
              "      <td>1</td>\n",
              "      <td>2</td>\n",
              "      <td>...</td>\n",
              "      <td>0</td>\n",
              "      <td>0</td>\n",
              "      <td>0</td>\n",
              "      <td>-1</td>\n",
              "      <td>15860</td>\n",
              "      <td>10984</td>\n",
              "      <td>1274</td>\n",
              "      <td>445</td>\n",
              "      <td>1</td>\n",
              "      <td>1</td>\n",
              "    </tr>\n",
              "    <tr>\n",
              "      <th>3</th>\n",
              "      <td>0.000060</td>\n",
              "      <td>3</td>\n",
              "      <td>0</td>\n",
              "      <td>0</td>\n",
              "      <td>0</td>\n",
              "      <td>0.0</td>\n",
              "      <td>0.0</td>\n",
              "      <td>1.00</td>\n",
              "      <td>1</td>\n",
              "      <td>3</td>\n",
              "      <td>...</td>\n",
              "      <td>0</td>\n",
              "      <td>0</td>\n",
              "      <td>0</td>\n",
              "      <td>-1</td>\n",
              "      <td>990</td>\n",
              "      <td>65104</td>\n",
              "      <td>957</td>\n",
              "      <td>25</td>\n",
              "      <td>1</td>\n",
              "      <td>1</td>\n",
              "    </tr>\n",
              "    <tr>\n",
              "      <th>4</th>\n",
              "      <td>0.000074</td>\n",
              "      <td>3</td>\n",
              "      <td>0</td>\n",
              "      <td>0</td>\n",
              "      <td>1</td>\n",
              "      <td>1.0</td>\n",
              "      <td>0.0</td>\n",
              "      <td>0.75</td>\n",
              "      <td>2</td>\n",
              "      <td>4</td>\n",
              "      <td>...</td>\n",
              "      <td>0</td>\n",
              "      <td>0</td>\n",
              "      <td>0</td>\n",
              "      <td>-1</td>\n",
              "      <td>990</td>\n",
              "      <td>65104</td>\n",
              "      <td>957</td>\n",
              "      <td>25</td>\n",
              "      <td>1</td>\n",
              "      <td>1</td>\n",
              "    </tr>\n",
              "  </tbody>\n",
              "</table>\n",
              "<p>5 rows × 24 columns</p>\n",
              "</div>\n",
              "    <div class=\"colab-df-buttons\">\n",
              "\n",
              "  <div class=\"colab-df-container\">\n",
              "    <button class=\"colab-df-convert\" onclick=\"convertToInteractive('df-686b3ea0-401f-43fe-9c7b-e0802fb71070')\"\n",
              "            title=\"Convert this dataframe to an interactive table.\"\n",
              "            style=\"display:none;\">\n",
              "\n",
              "  <svg xmlns=\"http://www.w3.org/2000/svg\" height=\"24px\" viewBox=\"0 -960 960 960\">\n",
              "    <path d=\"M120-120v-720h720v720H120Zm60-500h600v-160H180v160Zm220 220h160v-160H400v160Zm0 220h160v-160H400v160ZM180-400h160v-160H180v160Zm440 0h160v-160H620v160ZM180-180h160v-160H180v160Zm440 0h160v-160H620v160Z\"/>\n",
              "  </svg>\n",
              "    </button>\n",
              "\n",
              "  <style>\n",
              "    .colab-df-container {\n",
              "      display:flex;\n",
              "      gap: 12px;\n",
              "    }\n",
              "\n",
              "    .colab-df-convert {\n",
              "      background-color: #E8F0FE;\n",
              "      border: none;\n",
              "      border-radius: 50%;\n",
              "      cursor: pointer;\n",
              "      display: none;\n",
              "      fill: #1967D2;\n",
              "      height: 32px;\n",
              "      padding: 0 0 0 0;\n",
              "      width: 32px;\n",
              "    }\n",
              "\n",
              "    .colab-df-convert:hover {\n",
              "      background-color: #E2EBFA;\n",
              "      box-shadow: 0px 1px 2px rgba(60, 64, 67, 0.3), 0px 1px 3px 1px rgba(60, 64, 67, 0.15);\n",
              "      fill: #174EA6;\n",
              "    }\n",
              "\n",
              "    .colab-df-buttons div {\n",
              "      margin-bottom: 4px;\n",
              "    }\n",
              "\n",
              "    [theme=dark] .colab-df-convert {\n",
              "      background-color: #3B4455;\n",
              "      fill: #D2E3FC;\n",
              "    }\n",
              "\n",
              "    [theme=dark] .colab-df-convert:hover {\n",
              "      background-color: #434B5C;\n",
              "      box-shadow: 0px 1px 3px 1px rgba(0, 0, 0, 0.15);\n",
              "      filter: drop-shadow(0px 1px 2px rgba(0, 0, 0, 0.3));\n",
              "      fill: #FFFFFF;\n",
              "    }\n",
              "  </style>\n",
              "\n",
              "    <script>\n",
              "      const buttonEl =\n",
              "        document.querySelector('#df-686b3ea0-401f-43fe-9c7b-e0802fb71070 button.colab-df-convert');\n",
              "      buttonEl.style.display =\n",
              "        google.colab.kernel.accessAllowed ? 'block' : 'none';\n",
              "\n",
              "      async function convertToInteractive(key) {\n",
              "        const element = document.querySelector('#df-686b3ea0-401f-43fe-9c7b-e0802fb71070');\n",
              "        const dataTable =\n",
              "          await google.colab.kernel.invokeFunction('convertToInteractive',\n",
              "                                                    [key], {});\n",
              "        if (!dataTable) return;\n",
              "\n",
              "        const docLinkHtml = 'Like what you see? Visit the ' +\n",
              "          '<a target=\"_blank\" href=https://colab.research.google.com/notebooks/data_table.ipynb>data table notebook</a>'\n",
              "          + ' to learn more about interactive tables.';\n",
              "        element.innerHTML = '';\n",
              "        dataTable['output_type'] = 'display_data';\n",
              "        await google.colab.output.renderOutput(dataTable, element);\n",
              "        const docLink = document.createElement('div');\n",
              "        docLink.innerHTML = docLinkHtml;\n",
              "        element.appendChild(docLink);\n",
              "      }\n",
              "    </script>\n",
              "  </div>\n",
              "\n",
              "\n",
              "<div id=\"df-9fd277e7-d50f-4ba5-ba5a-0250d72ff42b\">\n",
              "  <button class=\"colab-df-quickchart\" onclick=\"quickchart('df-9fd277e7-d50f-4ba5-ba5a-0250d72ff42b')\"\n",
              "            title=\"Suggest charts\"\n",
              "            style=\"display:none;\">\n",
              "\n",
              "<svg xmlns=\"http://www.w3.org/2000/svg\" height=\"24px\"viewBox=\"0 0 24 24\"\n",
              "     width=\"24px\">\n",
              "    <g>\n",
              "        <path d=\"M19 3H5c-1.1 0-2 .9-2 2v14c0 1.1.9 2 2 2h14c1.1 0 2-.9 2-2V5c0-1.1-.9-2-2-2zM9 17H7v-7h2v7zm4 0h-2V7h2v10zm4 0h-2v-4h2v4z\"/>\n",
              "    </g>\n",
              "</svg>\n",
              "  </button>\n",
              "\n",
              "<style>\n",
              "  .colab-df-quickchart {\n",
              "      --bg-color: #E8F0FE;\n",
              "      --fill-color: #1967D2;\n",
              "      --hover-bg-color: #E2EBFA;\n",
              "      --hover-fill-color: #174EA6;\n",
              "      --disabled-fill-color: #AAA;\n",
              "      --disabled-bg-color: #DDD;\n",
              "  }\n",
              "\n",
              "  [theme=dark] .colab-df-quickchart {\n",
              "      --bg-color: #3B4455;\n",
              "      --fill-color: #D2E3FC;\n",
              "      --hover-bg-color: #434B5C;\n",
              "      --hover-fill-color: #FFFFFF;\n",
              "      --disabled-bg-color: #3B4455;\n",
              "      --disabled-fill-color: #666;\n",
              "  }\n",
              "\n",
              "  .colab-df-quickchart {\n",
              "    background-color: var(--bg-color);\n",
              "    border: none;\n",
              "    border-radius: 50%;\n",
              "    cursor: pointer;\n",
              "    display: none;\n",
              "    fill: var(--fill-color);\n",
              "    height: 32px;\n",
              "    padding: 0;\n",
              "    width: 32px;\n",
              "  }\n",
              "\n",
              "  .colab-df-quickchart:hover {\n",
              "    background-color: var(--hover-bg-color);\n",
              "    box-shadow: 0 1px 2px rgba(60, 64, 67, 0.3), 0 1px 3px 1px rgba(60, 64, 67, 0.15);\n",
              "    fill: var(--button-hover-fill-color);\n",
              "  }\n",
              "\n",
              "  .colab-df-quickchart-complete:disabled,\n",
              "  .colab-df-quickchart-complete:disabled:hover {\n",
              "    background-color: var(--disabled-bg-color);\n",
              "    fill: var(--disabled-fill-color);\n",
              "    box-shadow: none;\n",
              "  }\n",
              "\n",
              "  .colab-df-spinner {\n",
              "    border: 2px solid var(--fill-color);\n",
              "    border-color: transparent;\n",
              "    border-bottom-color: var(--fill-color);\n",
              "    animation:\n",
              "      spin 1s steps(1) infinite;\n",
              "  }\n",
              "\n",
              "  @keyframes spin {\n",
              "    0% {\n",
              "      border-color: transparent;\n",
              "      border-bottom-color: var(--fill-color);\n",
              "      border-left-color: var(--fill-color);\n",
              "    }\n",
              "    20% {\n",
              "      border-color: transparent;\n",
              "      border-left-color: var(--fill-color);\n",
              "      border-top-color: var(--fill-color);\n",
              "    }\n",
              "    30% {\n",
              "      border-color: transparent;\n",
              "      border-left-color: var(--fill-color);\n",
              "      border-top-color: var(--fill-color);\n",
              "      border-right-color: var(--fill-color);\n",
              "    }\n",
              "    40% {\n",
              "      border-color: transparent;\n",
              "      border-right-color: var(--fill-color);\n",
              "      border-top-color: var(--fill-color);\n",
              "    }\n",
              "    60% {\n",
              "      border-color: transparent;\n",
              "      border-right-color: var(--fill-color);\n",
              "    }\n",
              "    80% {\n",
              "      border-color: transparent;\n",
              "      border-right-color: var(--fill-color);\n",
              "      border-bottom-color: var(--fill-color);\n",
              "    }\n",
              "    90% {\n",
              "      border-color: transparent;\n",
              "      border-bottom-color: var(--fill-color);\n",
              "    }\n",
              "  }\n",
              "</style>\n",
              "\n",
              "  <script>\n",
              "    async function quickchart(key) {\n",
              "      const quickchartButtonEl =\n",
              "        document.querySelector('#' + key + ' button');\n",
              "      quickchartButtonEl.disabled = true;  // To prevent multiple clicks.\n",
              "      quickchartButtonEl.classList.add('colab-df-spinner');\n",
              "      try {\n",
              "        const charts = await google.colab.kernel.invokeFunction(\n",
              "            'suggestCharts', [key], {});\n",
              "      } catch (error) {\n",
              "        console.error('Error during call to suggestCharts:', error);\n",
              "      }\n",
              "      quickchartButtonEl.classList.remove('colab-df-spinner');\n",
              "      quickchartButtonEl.classList.add('colab-df-quickchart-complete');\n",
              "    }\n",
              "    (() => {\n",
              "      let quickchartButtonEl =\n",
              "        document.querySelector('#df-9fd277e7-d50f-4ba5-ba5a-0250d72ff42b button');\n",
              "      quickchartButtonEl.style.display =\n",
              "        google.colab.kernel.accessAllowed ? 'block' : 'none';\n",
              "    })();\n",
              "  </script>\n",
              "</div>\n",
              "\n",
              "    </div>\n",
              "  </div>\n"
            ],
            "application/vnd.google.colaboratory.intrinsic+json": {
              "type": "dataframe",
              "variable_name": "df"
            }
          },
          "metadata": {},
          "execution_count": 6
        }
      ]
    },
    {
      "cell_type": "code",
      "source": [
        "dataset = df\n",
        "\n",
        "X = dataset.iloc[:, :-1].values\n",
        "y = dataset.iloc[:, -1].values\n",
        "print(X)\n",
        "print(y)"
      ],
      "metadata": {
        "colab": {
          "base_uri": "https://localhost:8080/"
        },
        "id": "9kKp_sq-M4zC",
        "outputId": "8c8c5708-70f8-442e-9478-e4e3c2d54bbe"
      },
      "execution_count": 7,
      "outputs": [
        {
          "output_type": "stream",
          "name": "stdout",
          "text": [
            "[[0.000000e+00 3.000000e+00 0.000000e+00 ... 8.220000e+02 2.500000e+01\n",
            "  0.000000e+00]\n",
            " [2.999947e+00 3.000000e+00 0.000000e+00 ... 1.660000e+02 2.300000e+01\n",
            "  0.000000e+00]\n",
            " [0.000000e+00 3.000000e+00 0.000000e+00 ... 1.274000e+03 4.450000e+02\n",
            "  1.000000e+00]\n",
            " ...\n",
            " [0.000000e+00 3.000000e+00 0.000000e+00 ... 8.220000e+02 2.500000e+01\n",
            "  6.461500e+04]\n",
            " [1.040000e-04 1.000000e+00 5.600000e+01 ... 3.170000e+02 5.300000e+01\n",
            "  6.461500e+04]\n",
            " [1.390000e-04 1.000000e+00 4.700000e+01 ... 3.170000e+02 5.300000e+01\n",
            "  6.461500e+04]]\n",
            "[1 1 1 ... 1 2 2]\n"
          ]
        }
      ]
    },
    {
      "cell_type": "code",
      "source": [
        "from sklearn.impute import SimpleImputer\n",
        "imputer = SimpleImputer(missing_values=np.nan, strategy='mean')\n",
        "imputer.fit(X[:, 1:68])\n",
        "X[:, 1:68] = imputer.transform(X[:, 1:68])\n",
        "print(X)"
      ],
      "metadata": {
        "colab": {
          "base_uri": "https://localhost:8080/"
        },
        "id": "VkxKRAbKW-2_",
        "outputId": "3a4366d7-e4b9-4bdd-8236-8e8ccfe3a532"
      },
      "execution_count": 8,
      "outputs": [
        {
          "output_type": "stream",
          "name": "stdout",
          "text": [
            "[[0.000000e+00 3.000000e+00 0.000000e+00 ... 8.220000e+02 2.500000e+01\n",
            "  0.000000e+00]\n",
            " [2.999947e+00 3.000000e+00 0.000000e+00 ... 1.660000e+02 2.300000e+01\n",
            "  0.000000e+00]\n",
            " [0.000000e+00 3.000000e+00 0.000000e+00 ... 1.274000e+03 4.450000e+02\n",
            "  1.000000e+00]\n",
            " ...\n",
            " [0.000000e+00 3.000000e+00 0.000000e+00 ... 8.220000e+02 2.500000e+01\n",
            "  6.461500e+04]\n",
            " [1.040000e-04 1.000000e+00 5.600000e+01 ... 3.170000e+02 5.300000e+01\n",
            "  6.461500e+04]\n",
            " [1.390000e-04 1.000000e+00 4.700000e+01 ... 3.170000e+02 5.300000e+01\n",
            "  6.461500e+04]]\n"
          ]
        }
      ]
    },
    {
      "cell_type": "code",
      "source": [
        "from sklearn.preprocessing import LabelEncoder\n",
        "le = LabelEncoder()\n",
        "y = le.fit_transform(y)\n",
        "print(y)"
      ],
      "metadata": {
        "colab": {
          "base_uri": "https://localhost:8080/"
        },
        "id": "4Eov6wiwNEgK",
        "outputId": "87e69ba6-8126-4665-9095-142569a91fe3"
      },
      "execution_count": 9,
      "outputs": [
        {
          "output_type": "stream",
          "name": "stdout",
          "text": [
            "[1 1 1 ... 1 2 2]\n"
          ]
        }
      ]
    },
    {
      "cell_type": "code",
      "source": [
        "from sklearn.model_selection import train_test_split\n",
        "X_train, X_test, y_train, y_test = train_test_split(X, y, test_size = 0.2, random_state = 0)\n",
        "\n",
        "from sklearn.preprocessing import StandardScaler\n",
        "sc = StandardScaler()\n",
        "X_train = sc.fit_transform(X_train)\n",
        "X_test = sc.fit_transform(X_test)"
      ],
      "metadata": {
        "id": "MmfHMp3MWkXN"
      },
      "execution_count": 10,
      "outputs": []
    },
    {
      "cell_type": "code",
      "source": [
        "def get_test_split( num):\n",
        "  X_train, X_test, y_train, y_test = train_test_split(X, y, test_size = num, random_state = 0)\n",
        "\n",
        "  from sklearn.preprocessing import StandardScaler\n",
        "  sc = StandardScaler()\n",
        "  X_train = sc.fit_transform(X_train)\n",
        "  X_test = sc.fit_transform(X_test)\n",
        "\n",
        "  return X_train, X_test, y_train, y_test\n"
      ],
      "metadata": {
        "id": "5nDc9IZI4DDI"
      },
      "execution_count": 11,
      "outputs": []
    },
    {
      "cell_type": "code",
      "source": [
        "from sklearn.metrics import confusion_matrix, accuracy_score"
      ],
      "metadata": {
        "id": "WQ0__sOo50tk"
      },
      "execution_count": 12,
      "outputs": []
    },
    {
      "cell_type": "code",
      "source": [
        "import lightgbm as lgb\n",
        "\n",
        "\n",
        "for i in [0.2,0.3,0.4]:\n",
        "  X_train, X_test, y_train, y_test = get_test_split(i)\n",
        "\n",
        "  print(\"for split \", i)\n",
        "\n",
        "  clf = lgb.LGBMClassifier()\n",
        "  clf.fit(X_train, y_train)\n",
        "  y_pred = clf.predict(X_test)\n",
        "  accuracy = accuracy_score(y_test, y_pred)\n",
        "  print(\"LGBM Accuracy:\", accuracy)\n",
        "\n",
        "  from sklearn.svm import LinearSVC\n",
        "\n",
        "  clf = LinearSVC()\n",
        "  clf.fit(X_train, y_train)\n",
        "  y_pred = clf.predict(X_test)\n",
        "  accuracy = accuracy_score(y_test, y_pred)\n",
        "  print(\"LinearSVC Accuracy:\", accuracy)\n",
        "\n",
        "  from sklearn.neural_network import MLPClassifier\n",
        "\n",
        "  clf = MLPClassifier()\n",
        "  clf.fit(X_train, y_train)\n",
        "  y_pred = clf.predict(X_test)\n",
        "  accuracy = accuracy_score(y_test, y_pred)\n",
        "  print(\"MLP Accuracy:\", accuracy)\n",
        "\n",
        "  from sklearn.naive_bayes import GaussianNB\n",
        "  clf = GaussianNB()\n",
        "  clf.fit(X_train, y_train)\n",
        "  y_pred = clf.predict(X_test)\n",
        "  accuracy = accuracy_score(y_test, y_pred)\n",
        "  print(\"NB Accuracy:\", accuracy)\n",
        "\n",
        "  from sklearn.discriminant_analysis import QuadraticDiscriminantAnalysis\n",
        "\n",
        "  clf = QuadraticDiscriminantAnalysis()\n",
        "  clf.fit(X_train, y_train)\n",
        "  y_pred = clf.predict(X_test)\n",
        "  accuracy = accuracy_score(y_test, y_pred)\n",
        "  print(\"QDA Accuracy:\", accuracy)\n",
        "\n",
        "  from sklearn.tree import DecisionTreeClassifier\n",
        "\n",
        "  clf = DecisionTreeClassifier()\n",
        "  clf.fit(X_train, y_train)\n",
        "  y_pred = clf.predict(X_test)\n",
        "  accuracy = accuracy_score(y_test, y_pred)\n",
        "  print(\"DecisionTree Accuracy:\", accuracy)\n",
        "\n",
        "  from sklearn.ensemble import GradientBoostingClassifier\n",
        "\n",
        "  clf = GradientBoostingClassifier()\n",
        "  clf.fit(X_train, y_train)\n",
        "  y_pred = clf.predict(X_test)\n",
        "  accuracy = accuracy_score(y_test, y_pred)\n",
        "  print(\"GradientBoosting Accuracy:\", accuracy)\n",
        "\n",
        "\n",
        "  from sklearn.ensemble import RandomForestClassifier\n",
        "\n",
        "  clf = RandomForestClassifier()\n",
        "  clf.fit(X_train, y_train)\n",
        "  y_pred = clf.predict(X_test)\n",
        "  accuracy = accuracy_score(y_test, y_pred)\n",
        "  print(\"RandomForest Accuracy:\", accuracy)\n",
        "\n",
        "  import xgboost as xgb\n",
        "\n",
        "  clf = xgb.XGBClassifier()\n",
        "  clf.fit(X_train, y_train)\n",
        "  y_pred = clf.predict(X_test)\n",
        "  accuracy = accuracy_score(y_test, y_pred)\n",
        "  print(\"XGB Accuracy:\", accuracy)\n",
        "\n",
        "\n",
        "  from sklearn.ensemble import AdaBoostClassifier\n",
        "\n",
        "  clf = AdaBoostClassifier()\n",
        "  clf.fit(X_train, y_train)\n",
        "  y_pred = clf.predict(X_test)\n",
        "  accuracy = accuracy_score(y_test, y_pred)\n",
        "  print(\"ADA Accuracy:\", accuracy)\n",
        "\n",
        "  from sklearn.neighbors import KNeighborsClassifier\n",
        "\n",
        "  clf = KNeighborsClassifier()\n",
        "  clf.fit(X_train, y_train)\n",
        "  y_pred = clf.predict(X_test)\n",
        "  accuracy = accuracy_score(y_test, y_pred)\n",
        "  print(\"KNN Accuracy:\", accuracy)\n",
        "\n",
        "  from sklearn.discriminant_analysis import LinearDiscriminantAnalysis\n",
        "\n",
        "  clf = LinearDiscriminantAnalysis()\n",
        "  clf.fit(X_train, y_train)\n",
        "  y_pred = clf.predict(X_test)\n",
        "  accuracy = accuracy_score(y_test, y_pred)\n",
        "  print(\"LDA Accuracy:\", accuracy)\n",
        "\n",
        "  from sklearn.linear_model import LogisticRegression\n",
        "\n",
        "  clf = LogisticRegression()\n",
        "  clf.fit(X_train, y_train)\n",
        "  y_pred = clf.predict(X_test)\n",
        "  accuracy = accuracy_score(y_test, y_pred)\n",
        "  print(\"LogisticRegression Accuracy:\", accuracy)\n",
        "\n",
        "  from sklearn.svm import SVC\n",
        "\n",
        "\n",
        "  classifier = SVC(kernel='rbf', probability=True, random_state=0)\n",
        "  classifier.fit(X_train, y_train)\n",
        "  y_pred = classifier.predict(X_test)\n",
        "  print(\"SVC Accuracy:\", accuracy_score(y_test, y_pred))"
      ],
      "metadata": {
        "colab": {
          "base_uri": "https://localhost:8080/"
        },
        "id": "zBX_6HSlZRxk",
        "outputId": "b947a36a-13b3-47f8-c419-47cd6a9d772a"
      },
      "execution_count": null,
      "outputs": [
        {
          "metadata": {
            "tags": null
          },
          "name": "stdout",
          "output_type": "stream",
          "text": [
            "for split  0.2\n",
            "[LightGBM] [Info] Auto-choosing row-wise multi-threading, the overhead of testing was 0.036873 seconds.\n",
            "You can set `force_row_wise=true` to remove the overhead.\n",
            "And if memory is not enough, you can set `force_col_wise=true`.\n",
            "[LightGBM] [Info] Total Bins 2767\n",
            "[LightGBM] [Info] Number of data points in the train set: 189736, number of used features: 23\n",
            "[LightGBM] [Info] Start training from score -4.368084\n",
            "[LightGBM] [Info] Start training from score -0.454673\n",
            "[LightGBM] [Info] Start training from score -1.042225\n",
            "[LightGBM] [Warning] No further splits with positive gain, best gain: -inf\n",
            "LGBM Accuracy: 0.9494033815406671\n"
          ]
        },
        {
          "metadata": {
            "tags": null
          },
          "name": "stderr",
          "output_type": "stream",
          "text": [
            "/usr/local/lib/python3.10/dist-packages/sklearn/svm/_base.py:1244: ConvergenceWarning: Liblinear failed to converge, increase the number of iterations.\n",
            "  warnings.warn(\n"
          ]
        },
        {
          "metadata": {
            "tags": null
          },
          "name": "stdout",
          "output_type": "stream",
          "text": [
            "LinearSVC Accuracy: 0.9190454104650673\n",
            "MLP Accuracy: 0.9766201458869166\n",
            "NB Accuracy: 0.6324577307416621\n"
          ]
        },
        {
          "metadata": {
            "tags": null
          },
          "name": "stderr",
          "output_type": "stream",
          "text": [
            "/usr/local/lib/python3.10/dist-packages/sklearn/discriminant_analysis.py:926: UserWarning: Variables are collinear\n",
            "  warnings.warn(\"Variables are collinear\")\n"
          ]
        },
        {
          "metadata": {
            "tags": null
          },
          "name": "stdout",
          "output_type": "stream",
          "text": [
            "QDA Accuracy: 0.632436648817304\n",
            "DecisionTree Accuracy: 0.8667411561327318\n",
            "GradientBoosting Accuracy: 0.9542311422186617\n",
            "RandomForest Accuracy: 0.9530716363789686\n",
            "XGB Accuracy: 0.8700931821056626\n",
            "ADA Accuracy: 0.632436648817304\n",
            "KNN Accuracy: 0.9768942109035713\n",
            "LDA Accuracy: 0.9102331660834001\n"
          ]
        },
        {
          "metadata": {
            "tags": null
          },
          "name": "stderr",
          "output_type": "stream",
          "text": [
            "/usr/local/lib/python3.10/dist-packages/sklearn/linear_model/_logistic.py:458: ConvergenceWarning: lbfgs failed to converge (status=1):\n",
            "STOP: TOTAL NO. of ITERATIONS REACHED LIMIT.\n",
            "\n",
            "Increase the number of iterations (max_iter) or scale the data as shown in:\n",
            "    https://scikit-learn.org/stable/modules/preprocessing.html\n",
            "Please also refer to the documentation for alternative solver options:\n",
            "    https://scikit-learn.org/stable/modules/linear_model.html#logistic-regression\n",
            "  n_iter_i = _check_optimize_result(\n"
          ]
        },
        {
          "metadata": {
            "tags": null
          },
          "name": "stdout",
          "output_type": "stream",
          "text": [
            "LogisticRegression Accuracy: 0.9172534468946325\n",
            "SVC Accuracy: 0.972635662183244\n",
            "for split  0.3\n",
            "[LightGBM] [Info] Auto-choosing row-wise multi-threading, the overhead of testing was 0.030968 seconds.\n",
            "You can set `force_row_wise=true` to remove the overhead.\n",
            "And if memory is not enough, you can set `force_col_wise=true`.\n",
            "[LightGBM] [Info] Total Bins 2749\n",
            "[LightGBM] [Info] Number of data points in the train set: 166019, number of used features: 23\n",
            "[LightGBM] [Info] Start training from score -4.374938\n",
            "[LightGBM] [Info] Start training from score -0.454112\n",
            "[LightGBM] [Info] Start training from score -1.042990\n",
            "[LightGBM] [Warning] No further splits with positive gain, best gain: -inf\n",
            "LGBM Accuracy: 0.951300754732892\n"
          ]
        },
        {
          "metadata": {
            "tags": null
          },
          "name": "stderr",
          "output_type": "stream",
          "text": [
            "/usr/local/lib/python3.10/dist-packages/sklearn/svm/_base.py:1244: ConvergenceWarning: Liblinear failed to converge, increase the number of iterations.\n",
            "  warnings.warn(\n"
          ]
        },
        {
          "metadata": {
            "tags": null
          },
          "name": "stdout",
          "output_type": "stream",
          "text": [
            "LinearSVC Accuracy: 0.9180475327121193\n",
            "MLP Accuracy: 0.9758260600694298\n",
            "NB Accuracy: 0.6323593484279911\n"
          ]
        },
        {
          "metadata": {
            "tags": null
          },
          "name": "stderr",
          "output_type": "stream",
          "text": [
            "/usr/local/lib/python3.10/dist-packages/sklearn/discriminant_analysis.py:926: UserWarning: Variables are collinear\n",
            "  warnings.warn(\"Variables are collinear\")\n"
          ]
        },
        {
          "metadata": {
            "tags": null
          },
          "name": "stdout",
          "output_type": "stream",
          "text": [
            "QDA Accuracy: 0.6323452938117524\n",
            "DecisionTree Accuracy: 0.8877738893339517\n",
            "GradientBoosting Accuracy: 0.955756068080561\n",
            "RandomForest Accuracy: 0.9578502059001279\n",
            "XGB Accuracy: 0.9088558136920072\n",
            "ADA Accuracy: 0.6323452938117524\n",
            "KNN Accuracy: 0.9762758077890683\n",
            "LDA Accuracy: 0.9092071790979748\n"
          ]
        },
        {
          "metadata": {
            "tags": null
          },
          "name": "stderr",
          "output_type": "stream",
          "text": [
            "/usr/local/lib/python3.10/dist-packages/sklearn/linear_model/_logistic.py:458: ConvergenceWarning: lbfgs failed to converge (status=1):\n",
            "STOP: TOTAL NO. of ITERATIONS REACHED LIMIT.\n",
            "\n",
            "Increase the number of iterations (max_iter) or scale the data as shown in:\n",
            "    https://scikit-learn.org/stable/modules/preprocessing.html\n",
            "Please also refer to the documentation for alternative solver options:\n",
            "    https://scikit-learn.org/stable/modules/linear_model.html#logistic-regression\n",
            "  n_iter_i = _check_optimize_result(\n"
          ]
        },
        {
          "metadata": {
            "tags": null
          },
          "name": "stdout",
          "output_type": "stream",
          "text": [
            "LogisticRegression Accuracy: 0.9165015249258619\n"
          ]
        }
      ]
    },
    {
      "cell_type": "code",
      "source": [
        "import lightgbm as lgb\n",
        "\n",
        "X_train, X_test, y_train, y_test = get_test_split(0.4)\n",
        "\n",
        "clf = lgb.LGBMClassifier()\n",
        "clf.fit(X_train, y_train)\n",
        "y_pred = clf.predict(X_test)\n",
        "accuracy = accuracy_score(y_test, y_pred)\n",
        "print(\"Accuracy:\", accuracy)"
      ],
      "metadata": {
        "id": "dnGyeu61MHyq",
        "colab": {
          "base_uri": "https://localhost:8080/"
        },
        "outputId": "2b834790-bad9-4f52-a606-cf4b91adfe8e"
      },
      "execution_count": 16,
      "outputs": [
        {
          "output_type": "stream",
          "name": "stdout",
          "text": [
            "[LightGBM] [Info] Auto-choosing row-wise multi-threading, the overhead of testing was 0.039011 seconds.\n",
            "You can set `force_row_wise=true` to remove the overhead.\n",
            "And if memory is not enough, you can set `force_col_wise=true`.\n",
            "[LightGBM] [Info] Total Bins 2728\n",
            "[LightGBM] [Info] Number of data points in the train set: 142302, number of used features: 23\n",
            "[LightGBM] [Info] Start training from score -4.374619\n",
            "[LightGBM] [Info] Start training from score -0.453375\n",
            "[LightGBM] [Info] Start training from score -1.044330\n",
            "[LightGBM] [Warning] No further splits with positive gain, best gain: -inf\n",
            "Accuracy: 0.9518699666905596\n"
          ]
        }
      ]
    },
    {
      "cell_type": "code",
      "source": [
        "from sklearn.svm import LinearSVC\n",
        "\n",
        "X_train, X_test, y_train, y_test = get_test_split(0.4)\n",
        "\n",
        "clf = LinearSVC()\n",
        "clf.fit(X_train, y_train)\n",
        "y_pred = clf.predict(X_test)\n",
        "accuracy = accuracy_score(y_test, y_pred)\n",
        "print(\"Accuracy:\", accuracy)"
      ],
      "metadata": {
        "id": "jwnGBkED08xm",
        "colab": {
          "base_uri": "https://localhost:8080/"
        },
        "outputId": "b6daf330-7503-4bd5-d6e0-4bf41b6dbaa5"
      },
      "execution_count": 17,
      "outputs": [
        {
          "output_type": "stream",
          "name": "stdout",
          "text": [
            "Accuracy: 0.9172429059324535\n"
          ]
        },
        {
          "output_type": "stream",
          "name": "stderr",
          "text": [
            "/usr/local/lib/python3.10/dist-packages/sklearn/svm/_base.py:1244: ConvergenceWarning: Liblinear failed to converge, increase the number of iterations.\n",
            "  warnings.warn(\n"
          ]
        }
      ]
    },
    {
      "cell_type": "code",
      "source": [
        "from sklearn.neural_network import MLPClassifier\n",
        "X_train, X_test, y_train, y_test = get_test_split(0.4)\n",
        "\n",
        "\n",
        "clf = MLPClassifier()\n",
        "clf.fit(X_train, y_train)\n",
        "y_pred = clf.predict(X_test)\n",
        "accuracy = accuracy_score(y_test, y_pred)\n",
        "print(\"Accuracy:\", accuracy)"
      ],
      "metadata": {
        "colab": {
          "base_uri": "https://localhost:8080/"
        },
        "id": "2Fb53V1r0m4f",
        "outputId": "725bcd99-1f5c-4856-cac4-d6c8114bee1b"
      },
      "execution_count": 18,
      "outputs": [
        {
          "output_type": "stream",
          "name": "stdout",
          "text": [
            "Accuracy: 0.9761247206645023\n"
          ]
        }
      ]
    },
    {
      "cell_type": "code",
      "source": [
        "from sklearn.metrics import confusion_matrix, accuracy_score\n",
        "\n",
        "X_train, X_test, y_train, y_test = get_test_split(0.4)\n",
        "\n",
        "\n",
        "from sklearn.naive_bayes import GaussianNB\n",
        "clf = GaussianNB()\n",
        "clf.fit(X_train, y_train)\n",
        "y_pred = clf.predict(X_test)\n",
        "accuracy = accuracy_score(y_test, y_pred)\n",
        "print(\"Accuracy:\", accuracy)"
      ],
      "metadata": {
        "id": "fecofzTL0GwT"
      },
      "execution_count": null,
      "outputs": []
    },
    {
      "cell_type": "code",
      "source": [
        "from sklearn.discriminant_analysis import QuadraticDiscriminantAnalysis\n",
        "\n",
        "X_train, X_test, y_train, y_test = get_test_split(0.4)\n",
        "\n",
        "\n",
        "clf = QuadraticDiscriminantAnalysis()\n",
        "clf.fit(X_train, y_train)\n",
        "y_pred = clf.predict(X_test)\n",
        "accuracy = accuracy_score(y_test, y_pred)\n",
        "print(\"Accuracy:\", accuracy)"
      ],
      "metadata": {
        "id": "0j2l9Opzz2Bo",
        "colab": {
          "base_uri": "https://localhost:8080/"
        },
        "outputId": "1d9901a8-ca2e-47d0-bc08-e5dd64d03e23"
      },
      "execution_count": 19,
      "outputs": [
        {
          "output_type": "stream",
          "name": "stderr",
          "text": [
            "/usr/local/lib/python3.10/dist-packages/sklearn/discriminant_analysis.py:926: UserWarning: Variables are collinear\n",
            "  warnings.warn(\"Variables are collinear\")\n"
          ]
        },
        {
          "output_type": "stream",
          "name": "stdout",
          "text": [
            "Accuracy: 0.6323101572711557\n"
          ]
        }
      ]
    },
    {
      "cell_type": "code",
      "source": [
        "from sklearn.tree import DecisionTreeClassifier\n",
        "\n",
        "X_train, X_test, y_train, y_test = get_test_split(0.4)\n",
        "\n",
        "\n",
        "clf = DecisionTreeClassifier()\n",
        "clf.fit(X_train, y_train)\n",
        "y_pred = clf.predict(X_test)\n",
        "accuracy = accuracy_score(y_test, y_pred)\n",
        "print(\"Accuracy:\", accuracy)"
      ],
      "metadata": {
        "id": "vw5smA3ivTtP",
        "colab": {
          "base_uri": "https://localhost:8080/"
        },
        "outputId": "0dd5f082-2600-400f-eda6-a696053b2a62"
      },
      "execution_count": 20,
      "outputs": [
        {
          "output_type": "stream",
          "name": "stdout",
          "text": [
            "Accuracy: 0.9358687861027954\n"
          ]
        }
      ]
    },
    {
      "cell_type": "code",
      "source": [
        "from sklearn.ensemble import GradientBoostingClassifier\n",
        "\n",
        "X_train, X_test, y_train, y_test = get_test_split(0.4)\n",
        "\n",
        "\n",
        "clf = GradientBoostingClassifier()\n",
        "clf.fit(X_train, y_train)\n",
        "y_pred = clf.predict(X_test)\n",
        "accuracy = accuracy_score(y_test, y_pred)\n",
        "print(\"Accuracy:\", accuracy)"
      ],
      "metadata": {
        "id": "ZzD71K-RyPHd",
        "colab": {
          "base_uri": "https://localhost:8080/"
        },
        "outputId": "17e44b22-8ae7-4320-ca07-215d30dd984c"
      },
      "execution_count": 26,
      "outputs": [
        {
          "output_type": "stream",
          "name": "stdout",
          "text": [
            "Accuracy: 0.9550322553442678\n"
          ]
        }
      ]
    },
    {
      "cell_type": "code",
      "source": [
        "from sklearn.ensemble import RandomForestClassifier\n",
        "\n",
        "X_train, X_test, y_train, y_test = get_test_split(0.4)\n",
        "\n",
        "\n",
        "clf = RandomForestClassifier()\n",
        "clf.fit(X_train, y_train)\n",
        "y_pred = clf.predict(X_test)\n",
        "accuracy = accuracy_score(y_test, y_pred)\n",
        "print(\"Accuracy:\", accuracy)"
      ],
      "metadata": {
        "id": "p0ZN_cfRyjUb",
        "colab": {
          "base_uri": "https://localhost:8080/"
        },
        "outputId": "4755482a-c9e2-4011-a919-9c9d3b8c7b1c"
      },
      "execution_count": 21,
      "outputs": [
        {
          "output_type": "stream",
          "name": "stdout",
          "text": [
            "Accuracy: 0.9622949782856179\n"
          ]
        }
      ]
    },
    {
      "cell_type": "code",
      "source": [
        "import xgboost as xgb\n",
        "\n",
        "X_train, X_test, y_train, y_test = get_test_split(0.4)\n",
        "\n",
        "clf = xgb.XGBClassifier()\n",
        "clf.fit(X_train, y_train)\n",
        "y_pred = clf.predict(X_test)\n",
        "accuracy = accuracy_score(y_test, y_pred)\n",
        "print(\"Accuracy:\", accuracy)"
      ],
      "metadata": {
        "colab": {
          "base_uri": "https://localhost:8080/"
        },
        "id": "-4G6XX84zEId",
        "outputId": "6083d84f-cb18-42ae-bcd7-cb25de07403a"
      },
      "execution_count": 22,
      "outputs": [
        {
          "output_type": "stream",
          "name": "stdout",
          "text": [
            "Accuracy: 0.9120778344647299\n"
          ]
        }
      ]
    },
    {
      "cell_type": "code",
      "source": [
        "!pip install catboost"
      ],
      "metadata": {
        "id": "MdPtYFtQDnj0",
        "colab": {
          "base_uri": "https://localhost:8080/"
        },
        "outputId": "1b2a1284-6366-489b-efba-65c1674280d5"
      },
      "execution_count": 17,
      "outputs": [
        {
          "output_type": "stream",
          "name": "stdout",
          "text": [
            "Collecting catboost\n",
            "  Downloading catboost-1.2.3-cp310-cp310-manylinux2014_x86_64.whl (98.5 MB)\n",
            "\u001b[2K     \u001b[90m━━━━━━━━━━━━━━━━━━━━━━━━━━━━━━━━━━━━━━━━\u001b[0m \u001b[32m98.5/98.5 MB\u001b[0m \u001b[31m9.3 MB/s\u001b[0m eta \u001b[36m0:00:00\u001b[0m\n",
            "\u001b[?25hRequirement already satisfied: graphviz in /usr/local/lib/python3.10/dist-packages (from catboost) (0.20.2)\n",
            "Requirement already satisfied: matplotlib in /usr/local/lib/python3.10/dist-packages (from catboost) (3.7.1)\n",
            "Requirement already satisfied: numpy>=1.16.0 in /usr/local/lib/python3.10/dist-packages (from catboost) (1.25.2)\n",
            "Requirement already satisfied: pandas>=0.24 in /usr/local/lib/python3.10/dist-packages (from catboost) (1.5.3)\n",
            "Requirement already satisfied: scipy in /usr/local/lib/python3.10/dist-packages (from catboost) (1.11.4)\n",
            "Requirement already satisfied: plotly in /usr/local/lib/python3.10/dist-packages (from catboost) (5.15.0)\n",
            "Requirement already satisfied: six in /usr/local/lib/python3.10/dist-packages (from catboost) (1.16.0)\n",
            "Requirement already satisfied: python-dateutil>=2.8.1 in /usr/local/lib/python3.10/dist-packages (from pandas>=0.24->catboost) (2.8.2)\n",
            "Requirement already satisfied: pytz>=2020.1 in /usr/local/lib/python3.10/dist-packages (from pandas>=0.24->catboost) (2023.4)\n",
            "Requirement already satisfied: contourpy>=1.0.1 in /usr/local/lib/python3.10/dist-packages (from matplotlib->catboost) (1.2.0)\n",
            "Requirement already satisfied: cycler>=0.10 in /usr/local/lib/python3.10/dist-packages (from matplotlib->catboost) (0.12.1)\n",
            "Requirement already satisfied: fonttools>=4.22.0 in /usr/local/lib/python3.10/dist-packages (from matplotlib->catboost) (4.50.0)\n",
            "Requirement already satisfied: kiwisolver>=1.0.1 in /usr/local/lib/python3.10/dist-packages (from matplotlib->catboost) (1.4.5)\n",
            "Requirement already satisfied: packaging>=20.0 in /usr/local/lib/python3.10/dist-packages (from matplotlib->catboost) (24.0)\n",
            "Requirement already satisfied: pillow>=6.2.0 in /usr/local/lib/python3.10/dist-packages (from matplotlib->catboost) (9.4.0)\n",
            "Requirement already satisfied: pyparsing>=2.3.1 in /usr/local/lib/python3.10/dist-packages (from matplotlib->catboost) (3.1.2)\n",
            "Requirement already satisfied: tenacity>=6.2.0 in /usr/local/lib/python3.10/dist-packages (from plotly->catboost) (8.2.3)\n",
            "Installing collected packages: catboost\n",
            "Successfully installed catboost-1.2.3\n"
          ]
        }
      ]
    },
    {
      "cell_type": "code",
      "source": [
        "%%capture\n",
        "from catboost import CatBoostClassifier\n",
        "\n",
        "\n",
        "X_train, X_test, y_train, y_test = get_test_split(0.4)\n",
        "\n",
        "clf = CatBoostClassifier()\n",
        "clf.fit(X_train, y_train)\n",
        "y_pred = clf.predict(X_test)\n",
        "accuracy = accuracy_score(y_test, y_pred)\n",
        "print(\"Accuracy:\", accuracy)\n"
      ],
      "metadata": {
        "id": "EP1LLXgC_tNp"
      },
      "execution_count": 20,
      "outputs": []
    },
    {
      "cell_type": "code",
      "source": [
        "print(\"Accuracy:\", accuracy)\n"
      ],
      "metadata": {
        "id": "486IQTbeEPvr",
        "colab": {
          "base_uri": "https://localhost:8080/"
        },
        "outputId": "f9a25e52-0112-43ac-c521-42dd187db321"
      },
      "execution_count": 21,
      "outputs": [
        {
          "output_type": "stream",
          "name": "stdout",
          "text": [
            "Accuracy: 0.9595016233081756\n"
          ]
        }
      ]
    },
    {
      "cell_type": "code",
      "source": [
        "from sklearn.ensemble import AdaBoostClassifier\n",
        "\n",
        "X_train, X_test, y_train, y_test = get_test_split(0.4)\n",
        "\n",
        "clf = AdaBoostClassifier()\n",
        "clf.fit(X_train, y_train)\n",
        "y_pred = clf.predict(X_test)\n",
        "accuracy = accuracy_score(y_test, y_pred)\n",
        "print(\"Accuracy:\", accuracy)\n"
      ],
      "metadata": {
        "id": "_p9NALCo_w_0",
        "colab": {
          "base_uri": "https://localhost:8080/"
        },
        "outputId": "c3b17c0a-1946-4185-cda2-6179b5971ac7"
      },
      "execution_count": 27,
      "outputs": [
        {
          "output_type": "stream",
          "name": "stdout",
          "text": [
            "Accuracy: 0.6323101572711557\n"
          ]
        }
      ]
    },
    {
      "cell_type": "code",
      "source": [
        "from sklearn.neighbors import KNeighborsClassifier\n",
        "from sklearn.metrics import accuracy_score\n",
        "\n",
        "X_train, X_test, y_train, y_test = train_test_split(X, y, test_size=0.4, random_state=42)\n",
        "\n",
        "clf = KNeighborsClassifier()\n",
        "clf.fit(X_train, y_train)\n",
        "y_pred = clf.predict(X_test)\n",
        "accuracy = accuracy_score(y_test, y_pred)\n",
        "print(\"Accuracy:\", accuracy)\n"
      ],
      "metadata": {
        "id": "i_WvGrDWAPnd",
        "colab": {
          "base_uri": "https://localhost:8080/"
        },
        "outputId": "63157fac-6f9e-4058-d094-d478db4bb052"
      },
      "execution_count": 14,
      "outputs": [
        {
          "output_type": "stream",
          "name": "stdout",
          "text": [
            "Accuracy: 0.8281717755196695\n"
          ]
        }
      ]
    },
    {
      "cell_type": "code",
      "source": [
        "from sklearn.neighbors import KNeighborsClassifier\n",
        "\n",
        "X_train, X_test, y_train, y_test = get_test_split(0.4)\n",
        "\n",
        "clf = KNeighborsClassifier()\n",
        "clf.fit(X_train, y_train)\n",
        "y_pred = clf.predict(X_test)\n",
        "accuracy = accuracy_score(y_test, y_pred)\n",
        "print(\"Accuracy:\", accuracy)"
      ],
      "metadata": {
        "id": "gwEb4G2hA4kV"
      },
      "execution_count": null,
      "outputs": []
    },
    {
      "cell_type": "code",
      "source": [
        "from sklearn.discriminant_analysis import LinearDiscriminantAnalysis\n",
        "\n",
        "X_train, X_test, y_train, y_test = get_test_split(0.4)\n",
        "\n",
        "clf = LinearDiscriminantAnalysis()\n",
        "clf.fit(X_train, y_train)\n",
        "y_pred = clf.predict(X_test)\n",
        "accuracy = accuracy_score(y_test, y_pred)\n",
        "print(\"Accuracy:\", accuracy)"
      ],
      "metadata": {
        "id": "aR0BUenuA5I2",
        "colab": {
          "base_uri": "https://localhost:8080/"
        },
        "outputId": "a9749c99-0eac-4435-e94d-88f16de71a79"
      },
      "execution_count": 29,
      "outputs": [
        {
          "output_type": "stream",
          "name": "stdout",
          "text": [
            "Accuracy: 0.9090736602437071\n"
          ]
        }
      ]
    },
    {
      "cell_type": "code",
      "source": [
        "from sklearn.linear_model import LogisticRegression\n",
        "\n",
        "X_train, X_test, y_train, y_test = get_test_split(0.4)\n",
        "\n",
        "clf = LogisticRegression()\n",
        "clf.fit(X_train, y_train)\n",
        "y_pred = clf.predict(X_test)\n",
        "accuracy = accuracy_score(y_test, y_pred)\n",
        "print(\"Accuracy:\", accuracy)"
      ],
      "metadata": {
        "id": "aFj1yQgDA91z",
        "colab": {
          "base_uri": "https://localhost:8080/"
        },
        "outputId": "246cea05-c84a-4ab2-f4b8-4937dcd0b39a"
      },
      "execution_count": 30,
      "outputs": [
        {
          "output_type": "stream",
          "name": "stdout",
          "text": [
            "Accuracy: 0.915925285660075\n"
          ]
        },
        {
          "output_type": "stream",
          "name": "stderr",
          "text": [
            "/usr/local/lib/python3.10/dist-packages/sklearn/linear_model/_logistic.py:458: ConvergenceWarning: lbfgs failed to converge (status=1):\n",
            "STOP: TOTAL NO. of ITERATIONS REACHED LIMIT.\n",
            "\n",
            "Increase the number of iterations (max_iter) or scale the data as shown in:\n",
            "    https://scikit-learn.org/stable/modules/preprocessing.html\n",
            "Please also refer to the documentation for alternative solver options:\n",
            "    https://scikit-learn.org/stable/modules/linear_model.html#logistic-regression\n",
            "  n_iter_i = _check_optimize_result(\n"
          ]
        }
      ]
    },
    {
      "cell_type": "code",
      "source": [
        "from sklearn.svm import SVC\n",
        "\n",
        "X_train, X_test, y_train, y_test = get_test_split(0.4)\n",
        "\n",
        "classifier = SVC(kernel='rbf', probability=True, random_state=0)\n",
        "classifier.fit(X_train, y_train)\n",
        "\n",
        "\n",
        "y_pred = classifier.predict(X_test)\n",
        "cm = confusion_matrix(y_test, y_pred)\n",
        "print(cm)\n",
        "accuracy_score(y_test, y_pred)\n"
      ],
      "metadata": {
        "id": "M2Ut_eyhYte-",
        "colab": {
          "base_uri": "https://localhost:8080/"
        },
        "outputId": "4b113f23-33be-4f97-b0c7-32eceb7d0cec"
      },
      "execution_count": 13,
      "outputs": [
        {
          "output_type": "stream",
          "name": "stdout",
          "text": [
            "[[ 1093   173     0]\n",
            " [    5 59692   289]\n",
            " [    0  2186 31430]]\n"
          ]
        },
        {
          "output_type": "execute_result",
          "data": {
            "text/plain": [
              "0.9720348273390395"
            ]
          },
          "metadata": {},
          "execution_count": 13
        }
      ]
    },
    {
      "cell_type": "code",
      "source": [
        "from sklearn.svm import SVC\n",
        "\n",
        "X_train, X_test, y_train, y_test = get_test_split(0.3)\n",
        "\n",
        "classifier = SVC(kernel='rbf', probability=True, random_state=0)\n",
        "classifier.fit(X_train, y_train)\n",
        "\n",
        "\n",
        "y_pred = classifier.predict(X_test)\n",
        "cm = confusion_matrix(y_test, y_pred)\n",
        "print(cm)\n",
        "accuracy_score(y_test, y_pred)\n"
      ],
      "metadata": {
        "colab": {
          "base_uri": "https://localhost:8080/"
        },
        "id": "7DCZPYBN-QX6",
        "outputId": "92542ca7-a7d9-4fc6-9756-6aaa59d1d1a4"
      },
      "execution_count": 14,
      "outputs": [
        {
          "output_type": "stream",
          "name": "stdout",
          "text": [
            "[[  842   126     0]\n",
            " [    3 44770   219]\n",
            " [    0  1599 23592]]\n"
          ]
        },
        {
          "output_type": "execute_result",
          "data": {
            "text/plain": [
              "0.972635662183244"
            ]
          },
          "metadata": {},
          "execution_count": 14
        }
      ]
    }
  ]
}